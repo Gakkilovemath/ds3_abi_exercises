{
 "cells": [
  {
   "cell_type": "code",
   "execution_count": 1,
   "metadata": {},
   "outputs": [],
   "source": [
    "##################\n",
    "## Load Imports ##\n",
    "##################\n",
    "\n",
    "import math\n",
    "import numpy as np\n",
    "\n",
    "import torch\n",
    "import torch.nn as nn\n",
    "import torch.nn.functional as F\n",
    "\n",
    "from plotting_helpers import plot_toy_data, plot_training, plot_predictions\n",
    "from ipywidgets import interact, interactive, fixed, interact_manual\n",
    "import ipywidgets as widgets\n",
    "\n",
    "%matplotlib inline\n",
    "%load_ext autoreload\n",
    "%autoreload 2\n",
    "\n",
    "np.random.seed(111)"
   ]
  },
  {
   "cell_type": "markdown",
   "metadata": {},
   "source": [
    "# 4 Bayesian Neural Networks\n",
    "\n",
    "In this exercise, we will consider Bayesian neural networks.\n",
    "\n",
    "Exercises:\n",
    "* Implement the reparameterization trick for a variational linear transformation (Section 4.3).\n",
    "* Implement the KL divergence between the variational distribution q and the prior p (Section 4.3).\n",
    "* Play around with hyperparameters (Section 4.7).\n",
    "\n",
    "## 4.1 Preparing Toy Data\n",
    "\n",
    "We first prepare a 1D toy dataset."
   ]
  },
  {
   "cell_type": "code",
   "execution_count": 2,
   "metadata": {},
   "outputs": [
    {
     "data": {
      "image/png": "[encoded data removed]",
      "text/plain": [
       "<matplotlib.figure.Figure at 0x115d19ef0>"
      ]
     },
     "metadata": {},
     "output_type": "display_data"
    }
   ],
   "source": [
    "#####################\n",
    "## Sample Toy Data ##\n",
    "#####################\n",
    "\n",
    "def toy_data(N, sigma, seed=111):\n",
    "    np.random.seed(seed)\n",
    "    x = np.random.uniform(-5, 5, size=N)\n",
    "    np.random.seed(seed)\n",
    "    y = 0.1 * x**3 + np.random.normal(0.0, sigma, size=N)\n",
    "    return x, y\n",
    "\n",
    "N = 50\n",
    "sigma = 3.0\n",
    "\n",
    "x, y = toy_data(N, sigma)\n",
    "\n",
    "xt, yt = torch.FloatTensor(x.reshape([-1,1])), torch.FloatTensor(y)\n",
    "\n",
    "plot_toy_data(x, y)"
   ]
  },
  {
   "cell_type": "markdown",
   "metadata": {},
   "source": [
    "## 4.2 Model Specification\n",
    "\n",
    "We use a neural network with a single hidden layer.\n",
    "This neural network outputs the predicted mean:\n",
    "$$\\mu(x) = g(x \\boldsymbol{a}_0 + \\boldsymbol{b}_0) \\boldsymbol{a}_1 + b_1.$$\n",
    "For the activation function $g(\\cdot)$, we will use ReLU.\n",
    "Denote the combination of all the parameters by $\\boldsymbol{w} = (\\boldsymbol{a}_0, \\boldsymbol{b}_0, \\boldsymbol{a}_1, b_1)$.\n",
    "\n",
    "### 4.2.1 Specifying the Liklihood\n",
    "\n",
    "Assume that we have $N$ data points $\\mathcal{D} = \\{(x_n,y_n)\\}_{n=1}^N$.\n",
    "\n",
    "The likelihood of the model is given by\n",
    "$$p(\\mathcal{D} | \\boldsymbol{w})  = \\prod_{n=1}^N \\mathcal{N}(y_n | \\mu_{\\boldsymbol{w}}(x), \\tau^{-1}),$$\n",
    "where $\\tau$ is the noise precision.\n",
    "\n",
    "### 4.2.2 Specifying the Prior\n",
    "\n",
    "For the prior, we will also assume a Gaussian distribution.\n",
    "$$p(\\boldsymbol{w}) = \\mathcal{N}(\\boldsymbol{w} | 0, \\lambda^{-1} \\boldsymbol{I}),$$\n",
    "where $\\lambda$ is the prior precision. Note that this prior is non-conjugate to the likelihood. We thus have to resort to approximate Bayesian inference.\n",
    "\n",
    "## 4.3 Approximate Inference (Exercise 1)\n",
    "\n",
    "We will use variational inference to obtain an approximation $q(\\boldsymbol{w})$ to the true posterior $p(\\boldsymbol{w} | \\mathcal{D})$.\n",
    "\n",
    "### 4.3.1 Specifying the Variational Distribution\n",
    "\n",
    "For the variational distribution, we will use a fully-factorized (mean-field) Gaussian:\n",
    "$$q(\\boldsymbol{w} | \\boldsymbol{\\phi}) = \\mathcal{N}((\\boldsymbol{w} | (\\boldsymbol{\\boldsymbol{\\mu}}, \\mathrm{diag}((\\boldsymbol{\\sigma^2})),$$\n",
    "where each parameter $w_d$ has a mean $m_d$ and a precision $s_d$, and $\\boldsymbol{\\phi}$ denotes the combination of all the variational parameters.\n",
    "\n",
    "### 4.3.2 Optimizing the ELBO\n",
    "\n",
    "The ELBO is given by\n",
    "$$\\mathcal{L}(\\boldsymbol{\\phi}) = \\mathbb{E}_{q(\\boldsymbol{w}|\\boldsymbol{\\phi})} [\\log p(y | x, \\boldsymbol{w})] - \\mathbb{D}_{KL}[q(\\boldsymbol{w}|\\boldsymbol{\\phi}) \\| p(\\boldsymbol{w})].$$\n",
    "\n",
    "To do so, we will use automatic differentiation using torch and the reparameterization trick.\n",
    "\n",
    "Exercise:\n",
    "* Complete the implementation of *StochasticLinear.forward()* by implementing the **reparameterization trick**.\n",
    "* Complete the implementation of *StochasticLinear.kl_divergence()* by computing the **KL divergence** between $q(\\boldsymbol{w} | \\boldsymbol{\\phi})$ the prior $p(\\boldsymbol{w})$."
   ]
  },
  {
   "cell_type": "code",
   "execution_count": 3,
   "metadata": {},
   "outputs": [],
   "source": [
    "#########################################################\n",
    "## Define Stochastic Variational Linear Transformation ##\n",
    "#########################################################\n",
    "\n",
    "class StochasticLinear(nn.Module):\n",
    "\n",
    "    def __init__(self, in_features, out_features):\n",
    "        super(StochasticLinear, self).__init__()\n",
    "        self.in_features = in_features\n",
    "        self.out_features = out_features\n",
    "        self.weight_mu = nn.Parameter(torch.Tensor(out_features, in_features))\n",
    "        self.weight_rho = nn.Parameter(torch.Tensor(out_features, in_features))\n",
    "        self.bias_mu = nn.Parameter(torch.Tensor(out_features))\n",
    "        self.bias_rho = nn.Parameter(torch.Tensor(out_features))\n",
    "        self.reset_parameters()\n",
    "\n",
    "    def reset_parameters(self):\n",
    "        self.weight_mu.data.normal_(0,0.1)\n",
    "        self.bias_mu.data.normal_(0,0.1)\n",
    "        self.weight_rho.data.normal_(-2)\n",
    "        self.bias_rho.data.normal_(-2)\n",
    "\n",
    "    def forward(self, input):\n",
    "        ### Implement the reparameterization trick ###\n",
    "        ### Hint: Use torch.normal(...) to sample from a Gaussian ###\n",
    "        ### Hint: Use sigma = F.softplus(rho) ###\n",
    "        weight = self.weight_mu\n",
    "        bias = self.bias_mu\n",
    "        return F.linear(input, weight, bias)\n",
    "\n",
    "    def _kl_gaussian(self, q_mu, q_sigma, p_mu, p_sigma):\n",
    "        var_ratio = (q_sigma / p_sigma).pow(2)\n",
    "        t1 = ((q_mu - p_mu) / p_sigma).pow(2)\n",
    "        return 0.5 * torch.sum((var_ratio + t1 - 1 - var_ratio.log()))\n",
    "    \n",
    "    def kl_divergence(self):\n",
    "        ### Implement the KL divergence between q and the prior p ###\n",
    "        ### Hint: Compute the KL for both the weight and the bias ###\n",
    "        ### Hint: Use self._kl_gaussian(...) to compute the KL divergence ###\n",
    "        kl_w = 0\n",
    "        kl_b = 0\n",
    "        return kl_w + kl_b\n"
   ]
  },
  {
   "cell_type": "code",
   "execution_count": 4,
   "metadata": {},
   "outputs": [],
   "source": [
    "##################\n",
    "## Define Model ##\n",
    "##################\n",
    "\n",
    "class NeuralNet(nn.Module):\n",
    "    def __init__(self, hidden_units):\n",
    "        super(NeuralNet, self).__init__()\n",
    "        self.layer1 = StochasticLinear(1, hidden_units)\n",
    "        self.layer2 = StochasticLinear(hidden_units, 1)\n",
    "        \n",
    "    def forward(self, x):\n",
    "        h = F.relu(self.layer1(x))\n",
    "        z = self.layer2(h)\n",
    "        return z.reshape([-1])\n",
    "    \n",
    "    def kl_divergence(self):\n",
    "        kl1 = self.layer1.kl_divergence()\n",
    "        kl2 = self.layer2.kl_divergence()\n",
    "        return kl1 + kl2\n",
    "\n",
    "net = NeuralNet(hidden_units = 2)"
   ]
  },
  {
   "cell_type": "markdown",
   "metadata": {
    "deletable": true,
    "editable": true
   },
   "source": [
    "## 4.4 Specifying the Objective\n",
    "\n",
    "For training, we will use the negative ELBO $(-\\mathcal{L}(\\boldsymbol{\\phi}))$ as the objective."
   ]
  },
  {
   "cell_type": "code",
   "execution_count": 5,
   "metadata": {},
   "outputs": [],
   "source": [
    "######################\n",
    "## Define objective ##\n",
    "######################\n",
    "\n",
    "def neg_loglik(y, mu, sigma):\n",
    "    logprobs = 0.5 * (- math.log(2 * math.pi) - math.log(sigma**2) - (1/sigma**2) * (y - mu)**2)\n",
    "    loglik = torch.sum(logprobs)\n",
    "    return -loglik\n",
    "\n",
    "def neg_elbo(y, mu_list, sigma, kl):    \n",
    "    neg_loglik_list = [neg_loglik(y, mu, sigma) for mu in mu_list]    \n",
    "    neg_loglik_tensor = torch.stack(neg_loglik_list, dim = 0)\n",
    "    mc_neg_loglik = torch.mean(neg_loglik_tensor)\n",
    "    neg_elbo = mc_neg_loglik + kl\n",
    "    return neg_elbo"
   ]
  },
  {
   "cell_type": "markdown",
   "metadata": {
    "deletable": true,
    "editable": true
   },
   "source": [
    "## 4.5 Training the Model\n",
    "\n",
    "We will minimize the negative ELBO using gradient descent\n",
    "$$\\boldsymbol{\\phi} \\leftarrow \\boldsymbol{\\phi} - \\alpha \\nabla_{\\boldsymbol{\\phi}}( - \\mathcal{L}(\\boldsymbol{\\phi})),$$\n",
    "where $\\alpha$ is the learning rate. The gradients are computed in *loss.backward()* using **automatic differentiation**."
   ]
  },
  {
   "cell_type": "code",
   "execution_count": 6,
   "metadata": {},
   "outputs": [],
   "source": [
    "#####################\n",
    "## Define training ##\n",
    "#####################\n",
    "    \n",
    "def train(num_iters, learning_rate, mc_samples):\n",
    "    \n",
    "    losses = []\n",
    "    \n",
    "    for i in range(num_iters):\n",
    "        \n",
    "        # Clear gradient buffers\n",
    "        net.zero_grad()\n",
    "        \n",
    "        # Forward pass\n",
    "        mu_pred_list = [net(xt) for _ in range(mc_samples)]\n",
    "        loss = neg_elbo(yt, mu_pred_list, sigma, kl = net.kl_divergence())\n",
    "        \n",
    "        # Backward pass\n",
    "        loss.backward()\n",
    "        \n",
    "        # Update weights using gradient descent\n",
    "        with torch.no_grad():\n",
    "            for param in net.parameters():\n",
    "                if param.grad is not None:\n",
    "                    param -= learning_rate * param.grad\n",
    "        \n",
    "        # Store loss\n",
    "        losses.append(loss.detach().item())\n",
    "        \n",
    "        # Print progress\n",
    "        if (i+1) % 50 == 0:\n",
    "            print('Iter [{}/{}], ELBO: {:.4f}'.format(i+1, num_iters, losses[-1]))\n",
    "    \n",
    "    return losses\n"
   ]
  },
  {
   "cell_type": "code",
   "execution_count": 7,
   "metadata": {},
   "outputs": [
    {
     "name": "stdout",
     "output_type": "stream",
     "text": [
      "Iter [50/500], ELBO: 126.7051\n",
      "Iter [100/500], ELBO: 123.3632\n",
      "Iter [150/500], ELBO: 122.7787\n",
      "Iter [200/500], ELBO: 122.2120\n",
      "Iter [250/500], ELBO: 121.7571\n",
      "Iter [300/500], ELBO: 121.4846\n",
      "Iter [350/500], ELBO: 121.3705\n",
      "Iter [400/500], ELBO: 121.4876\n",
      "Iter [450/500], ELBO: 121.8205\n",
      "Iter [500/500], ELBO: 121.8648\n"
     ]
    },
    {
     "data": {
      "image/png": "[encoded data removed]",
      "text/plain": [
       "<matplotlib.figure.Figure at 0x115ddc828>"
      ]
     },
     "metadata": {},
     "output_type": "display_data"
    }
   ],
   "source": [
    "#################\n",
    "## Train model ##\n",
    "#################\n",
    "    \n",
    "torch.manual_seed(111)\n",
    "\n",
    "losses = train(num_iters = 500, learning_rate = 0.01, mc_samples = 10)\n",
    "\n",
    "plot_training(losses)"
   ]
  },
  {
   "cell_type": "markdown",
   "metadata": {
    "deletable": true,
    "editable": true
   },
   "source": [
    "## 4.6 Visualize Predictions\n",
    "\n",
    "To predict, we use the approximate predictive distribution\n",
    "$$p(y^* | x^*, \\mathcal{D}) = \\int p(y^* | x^*, \\boldsymbol{w}) p(\\boldsymbol{w} | \\mathcal{D}) d\\boldsymbol{w} \\approx \\int p(y^* | x^*, \\boldsymbol{w}) q(\\boldsymbol{w} | \\boldsymbol{\\phi}) d\\boldsymbol{w}.$$\n",
    "\n",
    "In practice, we approximate this integral using $S$ Monte Carlo samples\n",
    "$$\\int p(y^* | x^*, \\boldsymbol{w}) q(\\boldsymbol{w} | \\boldsymbol{\\phi}) d\\boldsymbol{w} \\approx \\frac{1}{S} \\sum_{s=1}^S p(y^* | x^*, \\boldsymbol{w}^{(s)}), \\quad\\quad\\mathrm{where}\\quad \\boldsymbol{w}^{(s)} \\sim q(\\boldsymbol{w} | \\boldsymbol{\\phi}).$$\n",
    "\n",
    "Visualizations of the means $\\mu_{\\boldsymbol{w}^{(s)}}(x^*)$ of several Monte Carlo samples are shown below."
   ]
  },
  {
   "cell_type": "code",
   "execution_count": 8,
   "metadata": {},
   "outputs": [
    {
     "data": {
      "image/png": "[encoded data removed]",
      "text/plain": [
       "<matplotlib.figure.Figure at 0x1163389e8>"
      ]
     },
     "metadata": {},
     "output_type": "display_data"
    }
   ],
   "source": [
    "########################\n",
    "## Sample Predictions ##\n",
    "########################\n",
    "\n",
    "num_preds = 10\n",
    "resolution = 50\n",
    "\n",
    "x_pred = np.linspace(-5, 5, num=resolution)\n",
    "xt_pred = torch.FloatTensor(x_pred.reshape([-1,1]))\n",
    "mu_pred = np.array([net(xt_pred).detach().numpy() for _ in range(num_preds)])\n",
    "\n",
    "######################\n",
    "## Plot predictions ##\n",
    "######################\n",
    "\n",
    "plot_predictions(x, y, x_pred, mu_pred)"
   ]
  },
  {
   "cell_type": "markdown",
   "metadata": {},
   "source": [
    "## 4.7 Playing with Hyperparameters (Exercise 2)\n",
    "\n",
    "In this exercise, you will study the effect of various hyperparameters on the training curve and final predictions. Some hyperparameters to vary are:\n",
    "* The number of hidden units\n",
    "* The prior precision $\\lambda$\n",
    "* The learning rate $\\alpha$\n",
    "* The number of training MC samples\n",
    "* The initial precision of $q$\n",
    "* The number of data points $N$\n",
    "\n",
    "You can also try to sample different toy datasets."
   ]
  }
 ],
 "metadata": {
  "kernelspec": {
   "display_name": "Python 3",
   "language": "python",
   "name": "python3"
  },
  "language_info": {
   "codemirror_mode": {
    "name": "ipython",
    "version": 3
   },
   "file_extension": ".py",
   "mimetype": "text/x-python",
   "name": "python",
   "nbconvert_exporter": "python",
   "pygments_lexer": "ipython3",
   "version": "3.6.1"
  }
 },
 "nbformat": 4,
 "nbformat_minor": 2
}
